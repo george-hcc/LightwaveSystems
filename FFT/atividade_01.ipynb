{
 "cells": [
  {
   "cell_type": "markdown",
   "metadata": {},
   "source": [
    "# Exercício 01"
   ]
  },
  {
   "cell_type": "markdown",
   "metadata": {},
   "source": [
    "Ilustre a transformada de Fourier do pulso retangular de duração igual a 1s, cuja função é\n",
    "\\begin{equation}\n",
    "\\mathcal{F}\\{rect(t)\\}=\\frac{\\sin(\\pi f)}{\\pi f}.\n",
    "\\end{equation}\n",
    "\n",
    "Em seguida, determine a transformada de Fourier, considerando que\n",
    "\\begin{equation}\n",
    "G(f)=\\int_{-t_0}^{t_0} g(t) \\exp(-j2\\pi ft)dt.\n",
    "\\end{equation}\n",
    "Utilize a [fórmula de Simpson](https://pt.wikipedia.org/wiki/F%C3%B3rmula_de_Simpson \"Wikipedia Entry\") para integração numérica."
   ]
  },
  {
   "cell_type": "markdown",
   "metadata": {},
   "source": [
    "## Exercício 02\n"
   ]
  },
  {
   "cell_type": "markdown",
   "metadata": {},
   "source": [
    "Considere o seguinte sinal:"
   ]
  },
  {
   "cell_type": "code",
   "execution_count": 25,
   "metadata": {},
   "outputs": [],
   "source": [
    "import matplotlib.pyplot as plt\n",
    "import numpy as num"
   ]
  },
  {
   "cell_type": "code",
   "execution_count": 26,
   "metadata": {},
   "outputs": [],
   "source": [
    "def rct(t):\n",
    "    return (abs(t) < 0.5).astype(float)"
   ]
  },
  {
   "cell_type": "code",
   "execution_count": 27,
   "metadata": {},
   "outputs": [],
   "source": [
    "f  = lambda t: (rct(t) - rct(t-0.5)) * num.exp(-t*t)  # define the function\n",
    "t0 = 4\n",
    "t  = num.linspace(-t0, t0, 1000)"
   ]
  },
  {
   "cell_type": "code",
   "execution_count": 28,
   "metadata": {},
   "outputs": [
    {
     "data": {
      "image/png": "[encoded data removed]",
      "text/plain": [
       "<Figure size 432x288 with 1 Axes>"
      ]
     },
     "metadata": {},
     "output_type": "display_data"
    }
   ],
   "source": [
    "plt.figure()\n",
    "plt.plot(t, f(t))  \n",
    "plt.grid(True)\n",
    "plt.ylim((-1.1,1.1));\n",
    "plt.xlabel('$t$');\n",
    "plt.ylabel('$g(t)$');"
   ]
  },
  {
   "cell_type": "markdown",
   "metadata": {},
   "source": [
    "Determine a transformada de Fourier da função $f(t)$ (gráfico anterior), considerando que\n",
    "\\begin{equation}\n",
    "F(f)=\\int_{-t_0}^{t_0} f(t) \\exp(-j2\\pi ft)dt.\n",
    "\\end{equation}\n",
    "Em seguida, determine a transformada de Fourier utilizando a transformada discreta de Fourier e compare os resultados. Considere uma taxa de amostragem igual a 51 amostras por segundo. Por fim, diminua para 5 amostras por segundo e verifique o impacto da diminuição de amostras na aproximação da transformada de Fourier utilizando a transformada discreta de Fourier."
   ]
  },
  {
   "cell_type": "code",
   "execution_count": null,
   "metadata": {},
   "outputs": [],
   "source": []
  }
 ],
 "metadata": {
  "kernelspec": {
   "display_name": "Python 3",
   "language": "python",
   "name": "python3"
  },
  "language_info": {
   "codemirror_mode": {
    "name": "ipython",
    "version": 3
   },
   "file_extension": ".py",
   "mimetype": "text/x-python",
   "name": "python",
   "nbconvert_exporter": "python",
   "pygments_lexer": "ipython3",
   "version": "3.6.5"
  },
  "latex_envs": {
   "LaTeX_envs_menu_present": true,
   "autoclose": false,
   "autocomplete": true,
   "bibliofile": "biblio.bib",
   "cite_by": "apalike",
   "current_citInitial": 1,
   "eqLabelWithNumbers": true,
   "eqNumInitial": 1,
   "hotkeys": {
    "equation": "Ctrl-E",
    "itemize": "Ctrl-I"
   },
   "labels_anchors": false,
   "latex_user_defs": false,
   "report_style_numbering": false,
   "user_envs_cfg": false
  }
 },
 "nbformat": 4,
 "nbformat_minor": 2
}
